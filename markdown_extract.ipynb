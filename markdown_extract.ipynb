{
  "cells": [
    {
      "cell_type": "code",
      "execution_count": 22,
      "metadata": {},
      "outputs": [],
      "source": [
        "from langchain_docling import DoclingLoader\n",
        "from langchain_docling.loader import ExportType\n",
        "def pass_to_markdown(file_path):\n",
        "\n",
        "    file_name = os.path.basename(file_path)\n",
        "    \n",
        "    file_name = os.path.join(\"data_md\", file_name)\n",
        "\n",
        "    loader = DoclingLoader(\n",
        "            file_path=file_path,\n",
        "            export_type=ExportType.MARKDOWN\n",
        "            )\n",
        "\n",
        "    docs = loader.load()\n",
        "\n",
        "    clean_doc = docs[0].page_content.replace(\"glyph&lt;c=3,font=/CIDFont+F8&gt;\", \"\").replace(\"glyph&lt;c=3,font=/CIDFont+F5&gt;\", \"\").replace(\"glyph<c=3,font=/CIDFont+F5>\", \" \").replace(\"glyph<c=3,font=/CIDFont+F8>\", \" \")\n",
        "\n",
        "    with open(f\"{file_name}_md.md\", \"w\", encoding=\"utf-8\") as markdown_file:\n",
        "        markdown_file.write(clean_doc)\n",
        "    return f\"{file_name}_md.md\""
      ]
    },
    {
      "cell_type": "code",
      "execution_count": 23,
      "metadata": {},
      "outputs": [],
      "source": [
        "import json\n",
        "def clean_docs(file_path):\n",
        "\n",
        "    def process_row(line):\n",
        "        # Remove espaços extras entre o conteúdo da célula e os pipes\n",
        "        cells = [cell.strip() for cell in line.split('|')[1:-1]]  # Ignora elementos vazios no início/fim\n",
        "        return '| ' + ' | '.join(cells) + ' |'  # Reconstroi a linha com 1 espaço entre texto e \"|\"\n",
        "    \n",
        "    # Carregar o JSON com as correções\n",
        "    with open('miss_words.json', 'r', encoding='utf-8') as f:\n",
        "        correcoes = json.load(f)[\"replacements\"]\n",
        "\n",
        "    # Ler o documento original\n",
        "    with open(file_path, 'r', encoding='utf-8') as f:\n",
        "        texto = f.readlines()\n",
        "\n",
        "    texto_corrigido = ''\n",
        "\n",
        "    in_table = False\n",
        "\n",
        "    for line in texto:\n",
        "        for erro, correcao in correcoes.items():\n",
        "            line = line.replace(erro, correcao)\n",
        "\n",
        "        stripped_line = line.strip()\n",
        "\n",
        "        # Verifica se é uma linha de tabela\n",
        "        if stripped_line.startswith('|') and stripped_line.endswith('|'):\n",
        "            if not in_table:\n",
        "                in_table = True\n",
        "            # Processa a linha para normalizar espaços\n",
        "            processed_line = process_row(stripped_line)\n",
        "            texto_corrigido += processed_line + \"\\n\"\n",
        "        else:\n",
        "            texto_corrigido += stripped_line + \"\\n\"\n",
        "            if in_table:\n",
        "                in_table = False\n",
        "        \n",
        "\n",
        "    file_name = os.path.basename(file_path)\n",
        "    \n",
        "    file_name = os.path.join(\"data_md_correct\", file_name)\n",
        "\n",
        "    # Salvar o documento corrigido\n",
        "    with open(f\"{file_name}_correct.md\", 'w', encoding='utf-8') as f:\n",
        "        f.write(texto_corrigido)\n",
        "    return file_name"
      ]
    },
    {
      "cell_type": "code",
      "execution_count": 24,
      "metadata": {
        "colab": {
          "base_uri": "https://localhost:8080/"
        },
        "id": "14FrvCtZOtGu",
        "outputId": "9dd6497b-99ed-48b7-a3e3-a4bb611dbe45"
      },
      "outputs": [],
      "source": [
        "def extract_markdown_tables(file_path):\n",
        "    def process_row(line):\n",
        "        # Remove espaços extras entre o conteúdo da célula e os pipes\n",
        "        cells = [cell.strip() for cell in line.split('|')[1:-1]]  # Ignora elementos vazios no início/fim\n",
        "        return '| ' + ' | '.join(cells) + ' |'  # Reconstroi a linha com 1 espaço entre texto e \"|\"\n",
        "    \n",
        "    with open(file_path, 'r', encoding='utf-8') as file:\n",
        "        lines = file.readlines()\n",
        "    \n",
        "    tables = []\n",
        "    current_table = []\n",
        "    in_table = False\n",
        "    \n",
        "    for line in lines:\n",
        "        stripped_line = line.strip()\n",
        "        # Verifica se é uma linha de tabela\n",
        "        if stripped_line.startswith('|') and stripped_line.endswith('|'):\n",
        "            if not in_table:\n",
        "                in_table = True\n",
        "            # Processa a linha para normalizar espaços\n",
        "            processed_line = process_row(stripped_line)\n",
        "            current_table.append(processed_line)\n",
        "        else:\n",
        "            if in_table:\n",
        "                if current_table:\n",
        "                    tables.append(current_table)\n",
        "                    current_table = []\n",
        "                in_table = False\n",
        "    \n",
        "    # Adiciona a última tabela se o arquivo terminar com uma tabela\n",
        "    if in_table and current_table:\n",
        "        tables.append(current_table)\n",
        "    \n",
        "    return tables\n",
        "\n",
        "# Exemplo de uso:\n",
        "# start_file_path = 'clean_doc.md'\n",
        "\n",
        "# end_file_path = clean_docs(start_file_path)\n",
        "\n",
        "# tables = extract_markdown_tables(end_file_path)\n",
        "\n",
        "# Imprime as tabelas encontradas\n",
        "# for i, table in enumerate(tables, 1):\n",
        "#     print(f\"Tabela {i}:\")\n",
        "#     for row in table:\n",
        "#         print(row)\n",
        "#     print(\"\\n\" + \"-\"*50 + \"\\n\")"
      ]
    },
    {
      "cell_type": "code",
      "execution_count": null,
      "metadata": {},
      "outputs": [
        {
          "name": "stdout",
          "output_type": "stream",
          "text": [
            "LOOP: 0\n",
            "data/citros.pdf\n",
            "PROFAVOR DA SERTO data_md/citros.pdf\n",
            "data_md/citros.pdf_md.md\n",
            "data_md_correct/citros.pdf_md.md\n"
          ]
        }
      ],
      "source": [
        "import os\n",
        "\n",
        "for i, file in enumerate(os.listdir('data')):\n",
        "    \n",
        "    start_file_path = 'data/'+file\n",
        "    print(start_file_path)\n",
        "\n",
        "    markdown_path = pass_to_markdown(start_file_path)\n",
        "    print(markdown_path)\n",
        "\n",
        "    end_file_path = clean_docs(markdown_path)\n",
        "    print(end_file_path)\n",
        "    # tables = extract_markdown_tables(end_file_path)"
      ]
    }
  ],
  "metadata": {
    "colab": {
      "provenance": []
    },
    "kernelspec": {
      "display_name": "venv",
      "language": "python",
      "name": "python3"
    },
    "language_info": {
      "codemirror_mode": {
        "name": "ipython",
        "version": 3
      },
      "file_extension": ".py",
      "mimetype": "text/x-python",
      "name": "python",
      "nbconvert_exporter": "python",
      "pygments_lexer": "ipython3",
      "version": "3.12.3"
    }
  },
  "nbformat": 4,
  "nbformat_minor": 0
}
